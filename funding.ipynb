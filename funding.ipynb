{
 "cells": [
  {
   "cell_type": "code",
   "execution_count": null,
   "id": "7858fd6d-fbdb-48bf-b4b8-2235b7ccb6a2",
   "metadata": {},
   "outputs": [],
   "source": [
    "from pybit.unified_trading import HTTP\n",
    "import matplotlib.pyplot as plt\n",
    "import matplotlib.dates as mdates\n",
    "import pandas as pd\n",
    "import datetime\n",
    "# Replace 'YOUR_API_KEY' and 'YOUR_API_SECRET' with your own Bybit API credentials\n",
    "api_key = 'jWhI7F48vMhqFftfE3'\n",
    "api_secret = 'kMfn8kKoprWnpnRkX1K0bpOMoMJkOzHBcgbC'\n",
    "\n",
    "# Instantiate the Bybit API client\n",
    "client = HTTP(testnet=False)\n"
   ]
  },
  {
   "cell_type": "code",
   "execution_count": null,
   "id": "49930c57-252d-4ca9-8ff4-1de3bda7e6ab",
   "metadata": {},
   "outputs": [],
   "source": [
    "# Request funding rates\n",
    "response = client.LinearV2.Market.SymbolInfo()\n",
    "\n",
    "# Extract the funding rates from the response\n",
    "funding_rates = response['result']\n",
    "\n",
    "# Print the funding rates\n",
    "for pair in funding_rates:\n",
    "    print(f\"Pair: {pair['symbol']}\")\n",
    "    print(f\"Funding Rate: {pair['funding_rate']}\")\n",
    "    print(\"-----\")\n"
   ]
  },
  {
   "cell_type": "code",
   "execution_count": null,
   "id": "ed180433-a67b-4a47-a9d6-da663eb9e905",
   "metadata": {},
   "outputs": [],
   "source": [
    "def plot_funding_rate(pair):\n",
    "    # Request funding rate history for the given pair\n",
    "    response = client.get_funding_rate_history(symbol=pair, category='linear', limit=30)\n",
    "    # Extract the funding rates and timestamps from the response\n",
    "    funding_rates = [float(entry['fundingRate'])*100 for entry in response['result']['list']]\n",
    "    timestamps = [entry['fundingRateTimestamp'] for entry in response['result']['list']]\n",
    "    dates = [datetime.datetime.fromtimestamp(int(ts) / 1000) for ts in timestamps]\n",
    "\n",
    "\n",
    "    # Plot the funding rates with dots\n",
    "    fig, ax = plt.subplots(figsize=(12, 6))\n",
    "    ax.plot(dates, funding_rates, marker='o', linestyle='-', markersize=5)\n",
    "\n",
    "    # Format x-axis with date ticks\n",
    "    ax.xaxis.set_major_locator(mdates.AutoDateLocator())\n",
    "    ax.xaxis.set_major_formatter(mdates.DateFormatter('%Y-%m-%d'))\n",
    "\n",
    "    # Add value annotations under each dot\n",
    "    for i in range(len(dates)):\n",
    "        ax.text(dates[i], funding_rates[i], str(funding_rates[i])[0:7], ha='center', va='top')\n",
    "\n",
    "    # Set labels and title\n",
    "    plt.xlabel('Date')\n",
    "    plt.ylabel('Funding Rate')\n",
    "    plt.title(f'Funding Rate History for {pair}')\n",
    "\n",
    "    # Rotate x-axis tick labels for better readability\n",
    "    plt.xticks(rotation=45)\n",
    "\n",
    "    # Show grid\n",
    "    plt.grid(True)\n",
    "\n",
    "    # Display the plot\n",
    "    plt.show()"
   ]
  },
  {
   "cell_type": "code",
   "execution_count": null,
   "id": "6237cdab-4ed4-4fa8-85b3-8507ed5d6bf3",
   "metadata": {},
   "outputs": [],
   "source": [
    "pair_to_plot = 'ZRXUSDT'\n",
    "plot_funding_rate(pair_to_plot)"
   ]
  },
  {
   "cell_type": "code",
   "execution_count": null,
   "id": "7578183a-a7c0-4b7a-9995-5ad62f845de5",
   "metadata": {},
   "outputs": [],
   "source": [
    "reponse = client.get_tickers(\n",
    "    category=\"linear\"\n",
    ")"
   ]
  },
  {
   "cell_type": "code",
   "execution_count": null,
   "id": "26ed213a-e13f-404f-a5d0-4bba15fae726",
   "metadata": {},
   "outputs": [],
   "source": [
    "df_linear = pd.DataFrame(reponse['result']['list'], columns=['symbol', 'fundingRate'])"
   ]
  },
  {
   "cell_type": "code",
   "execution_count": null,
   "id": "ee7342d6-3bb8-418e-b017-7b6bb716162d",
   "metadata": {},
   "outputs": [],
   "source": [
    "pd.set_option('display.max_rows', None)"
   ]
  },
  {
   "cell_type": "code",
   "execution_count": null,
   "id": "f945d0ac-9486-4827-b2b0-545e1bd857a8",
   "metadata": {},
   "outputs": [],
   "source": [
    "df_cleaned = df_linear.dropna(subset=['fundingRate']).drop(df_linear[df_linear['fundingRate'] == ''].index)"
   ]
  },
  {
   "cell_type": "code",
   "execution_count": null,
   "id": "dd683496-fd24-4241-905f-9223daa986e3",
   "metadata": {},
   "outputs": [],
   "source": [
    "df_cleaned['fundingRate'] = df_cleaned['fundingRate'].apply(lambda x: float(x) * 100)\n"
   ]
  },
  {
   "cell_type": "code",
   "execution_count": null,
   "id": "f86fde6e-7938-477a-b103-bfe8d51aa013",
   "metadata": {},
   "outputs": [],
   "source": [
    "df_cleaned.sort_values('fundingRate').reset_index().drop('index', axis=1)"
   ]
  },
  {
   "cell_type": "code",
   "execution_count": null,
   "id": "f902ca0b-f30d-4e7b-8e20-09aa6ebfcf85",
   "metadata": {},
   "outputs": [],
   "source": [
    "print(client.get_kline(\n",
    "    category=\"spot\",\n",
    "    symbol=\"SXPUSDT\",\n",
    "    interval=60,\n",
    "    limit=1\n",
    "))"
   ]
  },
  {
   "cell_type": "code",
   "execution_count": null,
   "id": "3cb8c69f-1d4a-4593-a94a-b503c55c8640",
   "metadata": {},
   "outputs": [],
   "source": [
    "reponse_spot = client.get_tickers(\n",
    "    category=\"spot\"\n",
    ")"
   ]
  },
  {
   "cell_type": "code",
   "execution_count": null,
   "id": "6e5ee9ed-1749-4b22-868c-c6b139a9361d",
   "metadata": {},
   "outputs": [],
   "source": [
    "reponse_spot"
   ]
  },
  {
   "cell_type": "code",
   "execution_count": null,
   "id": "39a1ef77-e1cb-4542-ab2f-772c33bcfbfb",
   "metadata": {},
   "outputs": [],
   "source": [
    "df = pd.DataFrame(reponse_spot['result']['list'], columns=['symbol', 'volume24h'])"
   ]
  },
  {
   "cell_type": "code",
   "execution_count": null,
   "id": "908ae3af-dd72-4e62-ac1d-98f69a9dbae5",
   "metadata": {},
   "outputs": [],
   "source": [
    "df.sort_values('volume24h')"
   ]
  },
  {
   "cell_type": "code",
   "execution_count": null,
   "id": "544912ef-8c41-4443-bb15-1ad693dbac35",
   "metadata": {},
   "outputs": [],
   "source": []
  }
 ],
 "metadata": {
  "kernelspec": {
   "display_name": "Python 3 (ipykernel)",
   "language": "python",
   "name": "python3"
  },
  "language_info": {
   "codemirror_mode": {
    "name": "ipython",
    "version": 3
   },
   "file_extension": ".py",
   "mimetype": "text/x-python",
   "name": "python",
   "nbconvert_exporter": "python",
   "pygments_lexer": "ipython3",
   "version": "3.11.3"
  }
 },
 "nbformat": 4,
 "nbformat_minor": 5
}
